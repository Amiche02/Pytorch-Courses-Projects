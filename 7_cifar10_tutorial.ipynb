{
  "cells": [
    {
      "cell_type": "code",
      "execution_count": 1,
      "metadata": {
        "id": "IHDx-KKzNzV8"
      },
      "outputs": [],
      "source": [
        "# For tips on running notebooks in Google Colab, see\n",
        "# https://pytorch.org/tutorials/beginner/colab\n",
        "%matplotlib inline"
      ]
    },
    {
      "cell_type": "markdown",
      "metadata": {
        "id": "sbAm3XC5NzV9"
      },
      "source": [
        "\n",
        "# Training a Classifier\n",
        "\n",
        "This is it. You have seen how to define neural networks, compute loss and make\n",
        "updates to the weights of the network.\n",
        "\n",
        "Now you might be thinking,\n",
        "\n",
        "## What about data?\n",
        "\n",
        "Generally, when you have to deal with image, text, audio or video data,\n",
        "you can use standard python packages that load data into a numpy array.\n",
        "Then you can convert this array into a ``torch.*Tensor``.\n",
        "\n",
        "-  For images, packages such as Pillow, OpenCV are useful\n",
        "-  For audio, packages such as scipy and librosa\n",
        "-  For text, either raw Python or Cython based loading, or NLTK and\n",
        "   SpaCy are useful\n",
        "\n",
        "Specifically for vision, we have created a package called\n",
        "``torchvision``, that has data loaders for common datasets such as\n",
        "ImageNet, CIFAR10, MNIST, etc. and data transformers for images, viz.,\n",
        "``torchvision.datasets`` and ``torch.utils.data.DataLoader``.\n",
        "\n",
        "This provides a huge convenience and avoids writing boilerplate code.\n",
        "\n",
        "For this tutorial, we will use the CIFAR10 dataset.\n",
        "It has the classes: ‘airplane’, ‘automobile’, ‘bird’, ‘cat’, ‘deer’,\n",
        "‘dog’, ‘frog’, ‘horse’, ‘ship’, ‘truck’. The images in CIFAR-10 are of\n",
        "size 3x32x32, i.e. 3-channel color images of 32x32 pixels in size.\n",
        "\n",
        ".. figure:: /_static/img/cifar10.png\n",
        "   :alt: cifar10\n",
        "\n",
        "   cifar10\n",
        "\n",
        "\n",
        "## Training an image classifier\n",
        "\n",
        "We will do the following steps in order:\n",
        "\n",
        "1. Load and normalize the CIFAR10 training and test datasets using\n",
        "   ``torchvision``\n",
        "2. Define a Convolutional Neural Network\n",
        "3. Define a loss function\n",
        "4. Train the network on the training data\n",
        "5. Test the network on the test data\n",
        "\n",
        "### 1. Load and normalize CIFAR10\n",
        "\n",
        "Using ``torchvision``, it’s extremely easy to load CIFAR10.\n"
      ]
    },
    {
      "cell_type": "code",
      "execution_count": 2,
      "metadata": {
        "id": "9c0QRQd_NzV-"
      },
      "outputs": [],
      "source": [
        "import torch\n",
        "import torchvision\n",
        "import torchvision.transforms as transforms"
      ]
    },
    {
      "cell_type": "markdown",
      "metadata": {
        "id": "Xv3hLJ6ANzV_"
      },
      "source": [
        "The output of torchvision datasets are PILImage images of range [0, 1].\n",
        "We transform them to Tensors of normalized range [-1, 1].\n",
        "\n"
      ]
    },
    {
      "cell_type": "markdown",
      "metadata": {
        "id": "XOeHsg0lNzV_"
      },
      "source": [
        "<div class=\"alert alert-info\"><h4>Note</h4><p>If running on Windows and you get a BrokenPipeError, try setting\n",
        "    the num_worker of torch.utils.data.DataLoader() to 0.</p></div>\n",
        "\n"
      ]
    },
    {
      "cell_type": "code",
      "execution_count": 3,
      "metadata": {
        "id": "g4u6_4-ZNzWA",
        "colab": {
          "base_uri": "https://localhost:8080/"
        },
        "outputId": "2c9b96be-3640-46d0-97df-686ce6f0d388"
      },
      "outputs": [
        {
          "output_type": "stream",
          "name": "stdout",
          "text": [
            "Downloading https://www.cs.toronto.edu/~kriz/cifar-10-python.tar.gz to ./data/cifar-10-python.tar.gz\n"
          ]
        },
        {
          "output_type": "stream",
          "name": "stderr",
          "text": [
            "100%|██████████| 170498071/170498071 [00:03<00:00, 45720809.84it/s]\n"
          ]
        },
        {
          "output_type": "stream",
          "name": "stdout",
          "text": [
            "Extracting ./data/cifar-10-python.tar.gz to ./data\n",
            "Files already downloaded and verified\n"
          ]
        }
      ],
      "source": [
        "transform = transforms.Compose(\n",
        "    [transforms.ToTensor(),\n",
        "     transforms.Normalize((0.5, 0.5, 0.5), (0.5, 0.5, 0.5))])\n",
        "\n",
        "batch_size = 4\n",
        "\n",
        "trainset = torchvision.datasets.CIFAR10(root='./data', train=True,\n",
        "                                        download=True, transform=transform)\n",
        "trainloader = torch.utils.data.DataLoader(trainset, batch_size=batch_size,\n",
        "                                          shuffle=True, num_workers=2)\n",
        "\n",
        "testset = torchvision.datasets.CIFAR10(root='./data', train=False,\n",
        "                                       download=True, transform=transform)\n",
        "testloader = torch.utils.data.DataLoader(testset, batch_size=batch_size,\n",
        "                                         shuffle=False, num_workers=2)\n",
        "\n",
        "classes = ('plane', 'car', 'bird', 'cat',\n",
        "           'deer', 'dog', 'frog', 'horse', 'ship', 'truck')"
      ]
    },
    {
      "cell_type": "markdown",
      "metadata": {
        "id": "cSCRMBFoNzWB"
      },
      "source": [
        "Let us show some of the training images, for fun.\n",
        "\n"
      ]
    },
    {
      "cell_type": "code",
      "execution_count": 4,
      "metadata": {
        "id": "T9MVM7wtNzWB",
        "colab": {
          "base_uri": "https://localhost:8080/",
          "height": 210
        },
        "outputId": "a770dbde-17ff-42b1-ea3a-327143a85d3e"
      },
      "outputs": [
        {
          "output_type": "display_data",
          "data": {
            "text/plain": [
              "<Figure size 640x480 with 1 Axes>"
            ],
            "image/png": "[encoded data removed]"
          },
          "metadata": {}
        },
        {
          "output_type": "stream",
          "name": "stdout",
          "text": [
            "cat   frog  deer  frog \n"
          ]
        }
      ],
      "source": [
        "import matplotlib.pyplot as plt\n",
        "import numpy as np\n",
        "\n",
        "# functions to show an image\n",
        "\n",
        "\n",
        "def imshow(img):\n",
        "    img = img / 2 + 0.5     # unnormalize\n",
        "    npimg = img.numpy()\n",
        "    plt.imshow(np.transpose(npimg, (1, 2, 0)))\n",
        "    plt.show()\n",
        "\n",
        "\n",
        "# get some random training images\n",
        "dataiter = iter(trainloader)\n",
        "images, labels = next(dataiter)\n",
        "\n",
        "# show images\n",
        "imshow(torchvision.utils.make_grid(images))\n",
        "# print labels\n",
        "print(' '.join(f'{classes[labels[j]]:5s}' for j in range(batch_size)))"
      ]
    },
    {
      "cell_type": "code",
      "source": [
        "for i in range(5):\n",
        "  # get some random training images\n",
        "  dataiter = iter(trainloader)\n",
        "  images, labels = next(dataiter)\n",
        "\n",
        "  # show images\n",
        "  imshow(torchvision.utils.make_grid(images))\n",
        "  # print labels\n",
        "  print(' '.join(f'{classes[labels[j]]:5s}' for j in range(batch_size)))"
      ],
      "metadata": {
        "colab": {
          "base_uri": "https://localhost:8080/",
          "height": 984
        },
        "id": "loy9e9dEVjea",
        "outputId": "6147cf08-ba44-41af-bedf-a5b4a3737901"
      },
      "execution_count": 5,
      "outputs": [
        {
          "output_type": "display_data",
          "data": {
            "text/plain": [
              "<Figure size 640x480 with 1 Axes>"
            ],
            "image/png": "[encoded data removed]"
          },
          "metadata": {}
        },
        {
          "output_type": "stream",
          "name": "stdout",
          "text": [
            "horse plane car   dog  \n"
          ]
        },
        {
          "output_type": "display_data",
          "data": {
            "text/plain": [
              "<Figure size 640x480 with 1 Axes>"
            ],
            "image/png": "[encoded data removed]"
          },
          "metadata": {}
        },
        {
          "output_type": "stream",
          "name": "stdout",
          "text": [
            "plane horse cat   frog \n"
          ]
        },
        {
          "output_type": "display_data",
          "data": {
            "text/plain": [
              "<Figure size 640x480 with 1 Axes>"
            ],
            "image/png": "[encoded data removed]"
          },
          "metadata": {}
        },
        {
          "output_type": "stream",
          "name": "stdout",
          "text": [
            "plane truck car   plane\n"
          ]
        },
        {
          "output_type": "display_data",
          "data": {
            "text/plain": [
              "<Figure size 640x480 with 1 Axes>"
            ],
            "image/png": "[encoded data removed]"
          },
          "metadata": {}
        },
        {
          "output_type": "stream",
          "name": "stdout",
          "text": [
            "bird  frog  frog  horse\n"
          ]
        },
        {
          "output_type": "display_data",
          "data": {
            "text/plain": [
              "<Figure size 640x480 with 1 Axes>"
            ],
            "image/png": "[encoded data removed]"
          },
          "metadata": {}
        },
        {
          "output_type": "stream",
          "name": "stdout",
          "text": [
            "dog   frog  truck dog  \n"
          ]
        }
      ]
    },
    {
      "cell_type": "markdown",
      "metadata": {
        "id": "-jZ5ErVINzWC"
      },
      "source": [
        "### 2. Define a Convolutional Neural Network\n",
        "Copy the neural network from the Neural Networks section before and modify it to\n",
        "take 3-channel images (instead of 1-channel images as it was defined).\n",
        "\n"
      ]
    },
    {
      "cell_type": "code",
      "execution_count": 6,
      "metadata": {
        "id": "N78OVYUfNzWD"
      },
      "outputs": [],
      "source": [
        "import torch.nn as nn\n",
        "import torch.nn.functional as F\n",
        "\n",
        "\n",
        "class Net(nn.Module):\n",
        "    def __init__(self):\n",
        "        super().__init__()\n",
        "        self.conv1 = nn.Conv2d(3, 6, 5)\n",
        "        self.pool = nn.MaxPool2d(2, 2)\n",
        "        self.conv2 = nn.Conv2d(6, 16, 5)\n",
        "        self.fc1 = nn.Linear(16 * 5 * 5, 120)\n",
        "        self.fc2 = nn.Linear(120, 84)\n",
        "        self.fc3 = nn.Linear(84, 10)\n",
        "\n",
        "    def forward(self, x):\n",
        "        x = self.pool(F.relu(self.conv1(x)))\n",
        "        x = self.pool(F.relu(self.conv2(x)))\n",
        "        x = torch.flatten(x, 1) # flatten all dimensions except batch\n",
        "        x = F.relu(self.fc1(x))\n",
        "        x = F.relu(self.fc2(x))\n",
        "        x = self.fc3(x)\n",
        "        return x\n",
        "\n",
        "\n",
        "net = Net()"
      ]
    },
    {
      "cell_type": "markdown",
      "metadata": {
        "id": "ULuwDkf_NzWE"
      },
      "source": [
        "### 3. Define a Loss function and optimizer\n",
        "Let's use a Classification Cross-Entropy loss and SGD with momentum.\n",
        "\n"
      ]
    },
    {
      "cell_type": "code",
      "execution_count": 7,
      "metadata": {
        "id": "d5Ym6y1UNzWE"
      },
      "outputs": [],
      "source": [
        "import torch.optim as optim\n",
        "\n",
        "criterion = nn.CrossEntropyLoss()\n",
        "optimizer = optim.SGD(net.parameters(), lr=0.001, momentum=0.9)"
      ]
    },
    {
      "cell_type": "markdown",
      "metadata": {
        "id": "B52x9Kh-NzWF"
      },
      "source": [
        "### 4. Train the network\n",
        "\n",
        "This is when things start to get interesting.\n",
        "We simply have to loop over our data iterator, and feed the inputs to the\n",
        "network and optimize.\n",
        "\n"
      ]
    },
    {
      "cell_type": "code",
      "execution_count": 8,
      "metadata": {
        "id": "nrIZxCSsNzWF",
        "colab": {
          "base_uri": "https://localhost:8080/"
        },
        "outputId": "57b064ae-5370-4a51-bef1-76667c701ab7"
      },
      "outputs": [
        {
          "output_type": "stream",
          "name": "stdout",
          "text": [
            "[1,     1] loss: 0.001\n",
            "[1,   101] loss: 0.115\n",
            "[1,   201] loss: 0.115\n",
            "[1,   301] loss: 0.115\n",
            "[1,   401] loss: 0.115\n",
            "[1,   501] loss: 0.115\n",
            "[1,   601] loss: 0.115\n",
            "[1,   701] loss: 0.114\n",
            "[1,   801] loss: 0.114\n",
            "[1,   901] loss: 0.114\n",
            "[1,  1001] loss: 0.112\n",
            "[1,  1101] loss: 0.111\n",
            "[1,  1201] loss: 0.109\n",
            "[1,  1301] loss: 0.109\n",
            "[1,  1401] loss: 0.109\n",
            "[1,  1501] loss: 0.107\n",
            "[1,  1601] loss: 0.107\n",
            "[1,  1701] loss: 0.105\n",
            "[1,  1801] loss: 0.106\n",
            "[1,  1901] loss: 0.104\n",
            "[1,  2001] loss: 0.103\n",
            "[1,  2101] loss: 0.101\n",
            "[1,  2201] loss: 0.098\n",
            "[1,  2301] loss: 0.099\n",
            "[1,  2401] loss: 0.096\n",
            "[1,  2501] loss: 0.098\n",
            "[1,  2601] loss: 0.097\n",
            "[1,  2701] loss: 0.096\n",
            "[1,  2801] loss: 0.095\n",
            "[1,  2901] loss: 0.093\n",
            "[1,  3001] loss: 0.088\n",
            "[1,  3101] loss: 0.089\n",
            "[1,  3201] loss: 0.095\n",
            "[1,  3301] loss: 0.090\n",
            "[1,  3401] loss: 0.087\n",
            "[1,  3501] loss: 0.093\n",
            "[1,  3601] loss: 0.090\n",
            "[1,  3701] loss: 0.086\n",
            "[1,  3801] loss: 0.088\n",
            "[1,  3901] loss: 0.087\n",
            "[1,  4001] loss: 0.084\n",
            "[1,  4101] loss: 0.087\n",
            "[1,  4201] loss: 0.092\n",
            "[1,  4301] loss: 0.086\n",
            "[1,  4401] loss: 0.087\n",
            "[1,  4501] loss: 0.088\n",
            "[1,  4601] loss: 0.085\n",
            "[1,  4701] loss: 0.082\n",
            "[1,  4801] loss: 0.087\n",
            "[1,  4901] loss: 0.083\n",
            "[1,  5001] loss: 0.080\n",
            "[1,  5101] loss: 0.078\n",
            "[1,  5201] loss: 0.086\n",
            "[1,  5301] loss: 0.084\n",
            "[1,  5401] loss: 0.087\n",
            "[1,  5501] loss: 0.080\n",
            "[1,  5601] loss: 0.083\n",
            "[1,  5701] loss: 0.083\n",
            "[1,  5801] loss: 0.080\n",
            "[1,  5901] loss: 0.081\n",
            "[1,  6001] loss: 0.082\n",
            "[1,  6101] loss: 0.081\n",
            "[1,  6201] loss: 0.080\n",
            "[1,  6301] loss: 0.085\n",
            "[1,  6401] loss: 0.083\n",
            "[1,  6501] loss: 0.079\n",
            "[1,  6601] loss: 0.079\n",
            "[1,  6701] loss: 0.080\n",
            "[1,  6801] loss: 0.076\n",
            "[1,  6901] loss: 0.078\n",
            "[1,  7001] loss: 0.074\n",
            "[1,  7101] loss: 0.076\n",
            "[1,  7201] loss: 0.079\n",
            "[1,  7301] loss: 0.080\n",
            "[1,  7401] loss: 0.076\n",
            "[1,  7501] loss: 0.079\n",
            "[1,  7601] loss: 0.074\n",
            "[1,  7701] loss: 0.078\n",
            "[1,  7801] loss: 0.077\n",
            "[1,  7901] loss: 0.076\n",
            "[1,  8001] loss: 0.080\n",
            "[1,  8101] loss: 0.080\n",
            "[1,  8201] loss: 0.077\n",
            "[1,  8301] loss: 0.075\n",
            "[1,  8401] loss: 0.075\n",
            "[1,  8501] loss: 0.083\n",
            "[1,  8601] loss: 0.078\n",
            "[1,  8701] loss: 0.077\n",
            "[1,  8801] loss: 0.075\n",
            "[1,  8901] loss: 0.071\n",
            "[1,  9001] loss: 0.076\n",
            "[1,  9101] loss: 0.075\n",
            "[1,  9201] loss: 0.077\n",
            "[1,  9301] loss: 0.078\n",
            "[1,  9401] loss: 0.075\n",
            "[1,  9501] loss: 0.073\n",
            "[1,  9601] loss: 0.077\n",
            "[1,  9701] loss: 0.077\n",
            "[1,  9801] loss: 0.071\n",
            "[1,  9901] loss: 0.074\n",
            "[1, 10001] loss: 0.069\n",
            "[1, 10101] loss: 0.077\n",
            "[1, 10201] loss: 0.076\n",
            "[1, 10301] loss: 0.075\n",
            "[1, 10401] loss: 0.075\n",
            "[1, 10501] loss: 0.078\n",
            "[1, 10601] loss: 0.074\n",
            "[1, 10701] loss: 0.073\n",
            "[1, 10801] loss: 0.073\n",
            "[1, 10901] loss: 0.074\n",
            "[1, 11001] loss: 0.072\n",
            "[1, 11101] loss: 0.068\n",
            "[1, 11201] loss: 0.070\n",
            "[1, 11301] loss: 0.077\n",
            "[1, 11401] loss: 0.072\n",
            "[1, 11501] loss: 0.072\n",
            "[1, 11601] loss: 0.073\n",
            "[1, 11701] loss: 0.073\n",
            "[1, 11801] loss: 0.072\n",
            "[1, 11901] loss: 0.069\n",
            "[1, 12001] loss: 0.073\n",
            "[1, 12101] loss: 0.072\n",
            "[1, 12201] loss: 0.071\n",
            "[1, 12301] loss: 0.072\n",
            "[1, 12401] loss: 0.071\n",
            "[2,     1] loss: 0.001\n",
            "[2,   101] loss: 0.070\n",
            "[2,   201] loss: 0.073\n",
            "[2,   301] loss: 0.070\n",
            "[2,   401] loss: 0.066\n",
            "[2,   501] loss: 0.068\n",
            "[2,   601] loss: 0.069\n",
            "[2,   701] loss: 0.071\n",
            "[2,   801] loss: 0.069\n",
            "[2,   901] loss: 0.074\n",
            "[2,  1001] loss: 0.067\n",
            "[2,  1101] loss: 0.073\n",
            "[2,  1201] loss: 0.069\n",
            "[2,  1301] loss: 0.071\n",
            "[2,  1401] loss: 0.070\n",
            "[2,  1501] loss: 0.072\n",
            "[2,  1601] loss: 0.070\n",
            "[2,  1701] loss: 0.074\n",
            "[2,  1801] loss: 0.066\n",
            "[2,  1901] loss: 0.070\n",
            "[2,  2001] loss: 0.070\n",
            "[2,  2101] loss: 0.070\n",
            "[2,  2201] loss: 0.066\n",
            "[2,  2301] loss: 0.072\n",
            "[2,  2401] loss: 0.070\n",
            "[2,  2501] loss: 0.065\n",
            "[2,  2601] loss: 0.071\n",
            "[2,  2701] loss: 0.073\n",
            "[2,  2801] loss: 0.070\n",
            "[2,  2901] loss: 0.067\n",
            "[2,  3001] loss: 0.065\n",
            "[2,  3101] loss: 0.072\n",
            "[2,  3201] loss: 0.067\n",
            "[2,  3301] loss: 0.070\n",
            "[2,  3401] loss: 0.067\n",
            "[2,  3501] loss: 0.072\n",
            "[2,  3601] loss: 0.071\n",
            "[2,  3701] loss: 0.069\n",
            "[2,  3801] loss: 0.067\n",
            "[2,  3901] loss: 0.068\n",
            "[2,  4001] loss: 0.069\n",
            "[2,  4101] loss: 0.069\n",
            "[2,  4201] loss: 0.067\n",
            "[2,  4301] loss: 0.068\n",
            "[2,  4401] loss: 0.071\n",
            "[2,  4501] loss: 0.067\n",
            "[2,  4601] loss: 0.066\n",
            "[2,  4701] loss: 0.066\n",
            "[2,  4801] loss: 0.071\n",
            "[2,  4901] loss: 0.065\n",
            "[2,  5001] loss: 0.065\n",
            "[2,  5101] loss: 0.064\n",
            "[2,  5201] loss: 0.065\n",
            "[2,  5301] loss: 0.064\n",
            "[2,  5401] loss: 0.067\n",
            "[2,  5501] loss: 0.069\n",
            "[2,  5601] loss: 0.066\n",
            "[2,  5701] loss: 0.066\n",
            "[2,  5801] loss: 0.066\n",
            "[2,  5901] loss: 0.067\n",
            "[2,  6001] loss: 0.066\n",
            "[2,  6101] loss: 0.068\n",
            "[2,  6201] loss: 0.064\n",
            "[2,  6301] loss: 0.068\n",
            "[2,  6401] loss: 0.065\n",
            "[2,  6501] loss: 0.064\n",
            "[2,  6601] loss: 0.069\n",
            "[2,  6701] loss: 0.068\n",
            "[2,  6801] loss: 0.065\n",
            "[2,  6901] loss: 0.066\n",
            "[2,  7001] loss: 0.066\n",
            "[2,  7101] loss: 0.066\n",
            "[2,  7201] loss: 0.063\n",
            "[2,  7301] loss: 0.066\n",
            "[2,  7401] loss: 0.062\n",
            "[2,  7501] loss: 0.067\n",
            "[2,  7601] loss: 0.064\n",
            "[2,  7701] loss: 0.069\n",
            "[2,  7801] loss: 0.064\n",
            "[2,  7901] loss: 0.065\n",
            "[2,  8001] loss: 0.069\n",
            "[2,  8101] loss: 0.064\n",
            "[2,  8201] loss: 0.071\n",
            "[2,  8301] loss: 0.065\n",
            "[2,  8401] loss: 0.071\n",
            "[2,  8501] loss: 0.063\n",
            "[2,  8601] loss: 0.062\n",
            "[2,  8701] loss: 0.065\n",
            "[2,  8801] loss: 0.067\n",
            "[2,  8901] loss: 0.067\n",
            "[2,  9001] loss: 0.059\n",
            "[2,  9101] loss: 0.064\n",
            "[2,  9201] loss: 0.064\n",
            "[2,  9301] loss: 0.066\n",
            "[2,  9401] loss: 0.060\n",
            "[2,  9501] loss: 0.065\n",
            "[2,  9601] loss: 0.065\n",
            "[2,  9701] loss: 0.063\n",
            "[2,  9801] loss: 0.067\n",
            "[2,  9901] loss: 0.064\n",
            "[2, 10001] loss: 0.068\n",
            "[2, 10101] loss: 0.062\n",
            "[2, 10201] loss: 0.062\n",
            "[2, 10301] loss: 0.063\n",
            "[2, 10401] loss: 0.069\n",
            "[2, 10501] loss: 0.069\n",
            "[2, 10601] loss: 0.066\n",
            "[2, 10701] loss: 0.067\n",
            "[2, 10801] loss: 0.062\n",
            "[2, 10901] loss: 0.061\n",
            "[2, 11001] loss: 0.060\n",
            "[2, 11101] loss: 0.060\n",
            "[2, 11201] loss: 0.062\n",
            "[2, 11301] loss: 0.062\n",
            "[2, 11401] loss: 0.067\n",
            "[2, 11501] loss: 0.066\n",
            "[2, 11601] loss: 0.063\n",
            "[2, 11701] loss: 0.063\n",
            "[2, 11801] loss: 0.069\n",
            "[2, 11901] loss: 0.067\n",
            "[2, 12001] loss: 0.060\n",
            "[2, 12101] loss: 0.066\n",
            "[2, 12201] loss: 0.063\n",
            "[2, 12301] loss: 0.062\n",
            "[2, 12401] loss: 0.062\n",
            "Finished Training\n"
          ]
        }
      ],
      "source": [
        "for epoch in range(2):  # loop over the dataset multiple times\n",
        "\n",
        "    running_loss = 0.0\n",
        "    for i, data in enumerate(trainloader, 0):\n",
        "        # get the inputs; data is a list of [inputs, labels]\n",
        "        inputs, labels = data\n",
        "\n",
        "        # zero the parameter gradients\n",
        "        optimizer.zero_grad()\n",
        "\n",
        "        # forward + backward + optimize\n",
        "        outputs = net(inputs)\n",
        "        loss = criterion(outputs, labels)\n",
        "        loss.backward()\n",
        "        optimizer.step()\n",
        "\n",
        "        # print statistics\n",
        "        running_loss += loss.item()\n",
        "        if i % 100 == 0:    # print every 2000 mini-batches\n",
        "            print(f'[{epoch + 1}, {i + 1:5d}] loss: {running_loss / 2000:.3f}')\n",
        "            running_loss = 0.0\n",
        "\n",
        "print('Finished Training')"
      ]
    },
    {
      "cell_type": "markdown",
      "metadata": {
        "id": "niI5GFxINzWF"
      },
      "source": [
        "Let's quickly save our trained model:\n",
        "\n"
      ]
    },
    {
      "cell_type": "code",
      "execution_count": 9,
      "metadata": {
        "id": "EqPi1fcjNzWG"
      },
      "outputs": [],
      "source": [
        "PATH = './cifar_net.pth'\n",
        "torch.save(net.state_dict(), PATH)"
      ]
    },
    {
      "cell_type": "markdown",
      "metadata": {
        "id": "xz1MVvYKNzWG"
      },
      "source": [
        "See [here](https://pytorch.org/docs/stable/notes/serialization.html)\n",
        "for more details on saving PyTorch models.\n",
        "\n",
        "### 5. Test the network on the test data\n",
        "\n",
        "We have trained the network for 2 passes over the training dataset.\n",
        "But we need to check if the network has learnt anything at all.\n",
        "\n",
        "We will check this by predicting the class label that the neural network\n",
        "outputs, and checking it against the ground-truth. If the prediction is\n",
        "correct, we add the sample to the list of correct predictions.\n",
        "\n",
        "Okay, first step. Let us display an image from the test set to get familiar.\n",
        "\n"
      ]
    },
    {
      "cell_type": "code",
      "execution_count": 10,
      "metadata": {
        "id": "1EuFm4EUNzWG",
        "colab": {
          "base_uri": "https://localhost:8080/",
          "height": 210
        },
        "outputId": "38d81faa-1e75-4774-c92a-f5e87f4a1fcd"
      },
      "outputs": [
        {
          "output_type": "display_data",
          "data": {
            "text/plain": [
              "<Figure size 640x480 with 1 Axes>"
            ],
            "image/png": "[encoded data removed]"
          },
          "metadata": {}
        },
        {
          "output_type": "stream",
          "name": "stdout",
          "text": [
            "GroundTruth:  cat   ship  ship  plane\n"
          ]
        }
      ],
      "source": [
        "dataiter = iter(testloader)\n",
        "images, labels = next(dataiter)\n",
        "\n",
        "# print images\n",
        "imshow(torchvision.utils.make_grid(images))\n",
        "print('GroundTruth: ', ' '.join(f'{classes[labels[j]]:5s}' for j in range(4)))"
      ]
    },
    {
      "cell_type": "markdown",
      "metadata": {
        "id": "bdWTaurNNzWH"
      },
      "source": [
        "Next, let's load back in our saved model (note: saving and re-loading the model\n",
        "wasn't necessary here, we only did it to illustrate how to do so):\n",
        "\n"
      ]
    },
    {
      "cell_type": "code",
      "execution_count": 11,
      "metadata": {
        "id": "rQ6ytz0jNzWH",
        "colab": {
          "base_uri": "https://localhost:8080/"
        },
        "outputId": "1ff54a26-8122-4f4c-dcdd-e65e936992c1"
      },
      "outputs": [
        {
          "output_type": "execute_result",
          "data": {
            "text/plain": [
              "<All keys matched successfully>"
            ]
          },
          "metadata": {},
          "execution_count": 11
        }
      ],
      "source": [
        "net = Net()\n",
        "net.load_state_dict(torch.load(PATH))"
      ]
    },
    {
      "cell_type": "markdown",
      "metadata": {
        "id": "6KxpJ3A3NzWH"
      },
      "source": [
        "Okay, now let us see what the neural network thinks these examples above are:\n",
        "\n"
      ]
    },
    {
      "cell_type": "code",
      "execution_count": 12,
      "metadata": {
        "id": "u4CA3izmNzWI"
      },
      "outputs": [],
      "source": [
        "outputs = net(images)"
      ]
    },
    {
      "cell_type": "markdown",
      "metadata": {
        "id": "vr2ugzmONzWI"
      },
      "source": [
        "The outputs are energies for the 10 classes.\n",
        "The higher the energy for a class, the more the network\n",
        "thinks that the image is of the particular class.\n",
        "So, let's get the index of the highest energy:\n",
        "\n"
      ]
    },
    {
      "cell_type": "code",
      "execution_count": 13,
      "metadata": {
        "id": "WUMp4KCoNzWI",
        "colab": {
          "base_uri": "https://localhost:8080/"
        },
        "outputId": "068c48c1-f0c4-464c-cab1-318ad162ff87"
      },
      "outputs": [
        {
          "output_type": "stream",
          "name": "stdout",
          "text": [
            "Predicted:  cat   ship  car   ship \n"
          ]
        }
      ],
      "source": [
        "_, predicted = torch.max(outputs, 1)\n",
        "\n",
        "print('Predicted: ', ' '.join(f'{classes[predicted[j]]:5s}'\n",
        "                              for j in range(4)))"
      ]
    },
    {
      "cell_type": "markdown",
      "metadata": {
        "id": "zSn3INnBNzWI"
      },
      "source": [
        "The results seem pretty good.\n",
        "\n",
        "Let us look at how the network performs on the whole dataset.\n",
        "\n"
      ]
    },
    {
      "cell_type": "code",
      "execution_count": 14,
      "metadata": {
        "id": "tNmfapC9NzWJ",
        "colab": {
          "base_uri": "https://localhost:8080/"
        },
        "outputId": "10b14b91-37d1-4296-f2ef-465885a84c21"
      },
      "outputs": [
        {
          "output_type": "stream",
          "name": "stdout",
          "text": [
            "Accuracy of the network on the 10000 test images: 55 %\n"
          ]
        }
      ],
      "source": [
        "correct = 0\n",
        "total = 0\n",
        "# since we're not training, we don't need to calculate the gradients for our outputs\n",
        "with torch.no_grad():\n",
        "    for data in testloader:\n",
        "        images, labels = data\n",
        "        # calculate outputs by running images through the network\n",
        "        outputs = net(images)\n",
        "        # the class with the highest energy is what we choose as prediction\n",
        "        _, predicted = torch.max(outputs.data, 1)\n",
        "        total += labels.size(0)\n",
        "        correct += (predicted == labels).sum().item()\n",
        "\n",
        "print(f'Accuracy of the network on the 10000 test images: {100 * correct // total} %')"
      ]
    },
    {
      "cell_type": "markdown",
      "metadata": {
        "id": "7HYZsficNzWJ"
      },
      "source": [
        "That looks way better than chance, which is 10% accuracy (randomly picking\n",
        "a class out of 10 classes).\n",
        "Seems like the network learnt something.\n",
        "\n",
        "Hmmm, what are the classes that performed well, and the classes that did\n",
        "not perform well:\n",
        "\n"
      ]
    },
    {
      "cell_type": "code",
      "execution_count": 15,
      "metadata": {
        "id": "UC5RlV5kNzWJ",
        "colab": {
          "base_uri": "https://localhost:8080/"
        },
        "outputId": "c05efa90-4a46-47d5-c3a1-1833d3fa6033"
      },
      "outputs": [
        {
          "output_type": "stream",
          "name": "stdout",
          "text": [
            "Accuracy for class: plane is 67.7 %\n",
            "Accuracy for class: car   is 74.6 %\n",
            "Accuracy for class: bird  is 35.1 %\n",
            "Accuracy for class: cat   is 37.1 %\n",
            "Accuracy for class: deer  is 44.7 %\n",
            "Accuracy for class: dog   is 53.1 %\n",
            "Accuracy for class: frog  is 63.7 %\n",
            "Accuracy for class: horse is 57.7 %\n",
            "Accuracy for class: ship  is 69.2 %\n",
            "Accuracy for class: truck is 50.9 %\n"
          ]
        }
      ],
      "source": [
        "# prepare to count predictions for each class\n",
        "correct_pred = {classname: 0 for classname in classes}\n",
        "total_pred = {classname: 0 for classname in classes}\n",
        "\n",
        "# again no gradients needed\n",
        "with torch.no_grad():\n",
        "    for data in testloader:\n",
        "        images, labels = data\n",
        "        outputs = net(images)\n",
        "        _, predictions = torch.max(outputs, 1)\n",
        "        # collect the correct predictions for each class\n",
        "        for label, prediction in zip(labels, predictions):\n",
        "            if label == prediction:\n",
        "                correct_pred[classes[label]] += 1\n",
        "            total_pred[classes[label]] += 1\n",
        "\n",
        "\n",
        "# print accuracy for each class\n",
        "for classname, correct_count in correct_pred.items():\n",
        "    accuracy = 100 * float(correct_count) / total_pred[classname]\n",
        "    print(f'Accuracy for class: {classname:5s} is {accuracy:.1f} %')"
      ]
    },
    {
      "cell_type": "markdown",
      "metadata": {
        "id": "zEGTbkDqNzWJ"
      },
      "source": [
        "Okay, so what next?\n",
        "\n",
        "How do we run these neural networks on the GPU?\n",
        "\n",
        "## Training on GPU\n",
        "Just like how you transfer a Tensor onto the GPU, you transfer the neural\n",
        "net onto the GPU.\n",
        "\n",
        "Let's first define our device as the first visible cuda device if we have\n",
        "CUDA available:\n",
        "\n"
      ]
    },
    {
      "cell_type": "code",
      "execution_count": 16,
      "metadata": {
        "id": "onznuuX1NzWJ",
        "colab": {
          "base_uri": "https://localhost:8080/"
        },
        "outputId": "78b4f12a-49f1-4fd7-e25c-f356184342a3"
      },
      "outputs": [
        {
          "output_type": "stream",
          "name": "stdout",
          "text": [
            "cuda:0\n"
          ]
        }
      ],
      "source": [
        "device = torch.device('cuda:0' if torch.cuda.is_available() else 'cpu')\n",
        "\n",
        "# Assuming that we are on a CUDA machine, this should print a CUDA device:\n",
        "\n",
        "print(device)"
      ]
    },
    {
      "cell_type": "markdown",
      "metadata": {
        "id": "MgX5t1AaNzWJ"
      },
      "source": [
        "The rest of this section assumes that ``device`` is a CUDA device.\n",
        "\n",
        "Then these methods will recursively go over all modules and convert their\n",
        "parameters and buffers to CUDA tensors:\n",
        "\n",
        ".. code:: python\n",
        "\n",
        "    net.to(device)\n",
        "\n",
        "\n",
        "Remember that you will have to send the inputs and targets at every step\n",
        "to the GPU too:\n",
        "\n",
        ".. code:: python\n",
        "\n",
        "        inputs, labels = data[0].to(device), data[1].to(device)\n",
        "\n",
        "Why don't I notice MASSIVE speedup compared to CPU? Because your network\n",
        "is really small.\n",
        "\n",
        "**Exercise:** Try increasing the width of your network (argument 2 of\n",
        "the first ``nn.Conv2d``, and argument 1 of the second ``nn.Conv2d`` –\n",
        "they need to be the same number), see what kind of speedup you get.\n",
        "\n",
        "**Goals achieved**:\n",
        "\n",
        "- Understanding PyTorch's Tensor library and neural networks at a high level.\n",
        "- Train a small neural network to classify images\n",
        "\n",
        "## Training on multiple GPUs\n",
        "If you want to see even more MASSIVE speedup using all of your GPUs,\n",
        "please check out :doc:`data_parallel_tutorial`.\n",
        "\n",
        "## Where do I go next?\n",
        "\n",
        "-  :doc:`Train neural nets to play video games </intermediate/reinforcement_q_learning>`\n",
        "-  `Train a state-of-the-art ResNet network on imagenet`_\n",
        "-  `Train a face generator using Generative Adversarial Networks`_\n",
        "-  `Train a word-level language model using Recurrent LSTM networks`_\n",
        "-  `More examples`_\n",
        "-  `More tutorials`_\n",
        "-  `Discuss PyTorch on the Forums`_\n",
        "-  `Chat with other users on Slack`_\n",
        "\n",
        "\n"
      ]
    },
    {
      "cell_type": "code",
      "execution_count": 17,
      "metadata": {
        "id": "Xlp0wOIRNzWJ"
      },
      "outputs": [],
      "source": [
        "del dataiter"
      ]
    }
  ],
  "metadata": {
    "kernelspec": {
      "display_name": "Python 3",
      "name": "python3"
    },
    "language_info": {
      "codemirror_mode": {
        "name": "ipython",
        "version": 3
      },
      "file_extension": ".py",
      "mimetype": "text/x-python",
      "name": "python",
      "nbconvert_exporter": "python",
      "pygments_lexer": "ipython3",
      "version": "3.10.13"
    },
    "colab": {
      "provenance": [],
      "gpuType": "T4"
    },
    "accelerator": "GPU"
  },
  "nbformat": 4,
  "nbformat_minor": 0
}